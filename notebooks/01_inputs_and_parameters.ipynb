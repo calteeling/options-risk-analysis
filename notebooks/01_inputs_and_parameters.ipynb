{
 "cells": [
  {
   "cell_type": "code",
   "execution_count": 107,
   "id": "61b0ce84-8a9f-486e-ac66-d05c1f730938",
   "metadata": {},
   "outputs": [],
   "source": [
    "import pandas as pd \n",
    "import numpy as np\n",
    "from datetime import datetime\n",
    "import joblib\n",
    "import os\n",
    "import pickle"
   ]
  },
  {
   "cell_type": "code",
   "execution_count": 108,
   "id": "39d4ddd0-8959-4871-8d98-6c3ea89125f9",
   "metadata": {},
   "outputs": [
    {
     "name": "stdout",
     "output_type": "stream",
     "text": [
      "('2025-08-08', '2025-08-15', '2025-08-22', '2025-08-29', '2025-09-05', '2025-09-19', '2025-10-17', '2025-11-21', '2025-12-19', '2026-01-16', '2026-02-20', '2026-03-20', '2026-05-15', '2026-06-18', '2026-09-18', '2026-12-18', '2027-01-15', '2027-06-17', '2027-12-17')\n"
     ]
    }
   ],
   "source": [
    "import yfinance as yf\n",
    "\n",
    "ticker = yf.Ticker(\"AAPL\")\n",
    "print(ticker.options)"
   ]
  },
  {
   "cell_type": "code",
   "execution_count": 109,
   "id": "644299ab-a83b-445c-b51e-cf61c5e9ac31",
   "metadata": {},
   "outputs": [
    {
     "name": "stdout",
     "output_type": "stream",
     "text": [
      "Time to Maturity (ttm): 0.5534246575342465\n"
     ]
    },
    {
     "data": {
      "text/html": [
       "<div>\n",
       "<style scoped>\n",
       "    .dataframe tbody tr th:only-of-type {\n",
       "        vertical-align: middle;\n",
       "    }\n",
       "\n",
       "    .dataframe tbody tr th {\n",
       "        vertical-align: top;\n",
       "    }\n",
       "\n",
       "    .dataframe thead th {\n",
       "        text-align: right;\n",
       "    }\n",
       "</style>\n",
       "<table border=\"1\" class=\"dataframe\">\n",
       "  <thead>\n",
       "    <tr style=\"text-align: right;\">\n",
       "      <th></th>\n",
       "      <th>Ticker:</th>\n",
       "      <th>Current Price</th>\n",
       "      <th>Estimated Volatility (Annualized)</th>\n",
       "      <th>Risk-Free Rate:</th>\n",
       "      <th>Strike Range Example:</th>\n",
       "      <th>Volatility Range Example:</th>\n",
       "    </tr>\n",
       "  </thead>\n",
       "  <tbody>\n",
       "    <tr>\n",
       "      <th>0</th>\n",
       "      <td>AAPL</td>\n",
       "      <td>202.38</td>\n",
       "      <td>0.1424</td>\n",
       "      <td>0.045</td>\n",
       "      <td>[161.9, 170.9, 179.89, 188.89, 197.88, 206.88,...</td>\n",
       "      <td>[0.07, 0.13, 0.19, 0.25, 0.31, 0.36, 0.42, 0.4...</td>\n",
       "    </tr>\n",
       "  </tbody>\n",
       "</table>\n",
       "</div>"
      ],
      "text/plain": [
       "  Ticker:  Current Price  Estimated Volatility (Annualized)  Risk-Free Rate:  \\\n",
       "0    AAPL         202.38                             0.1424            0.045   \n",
       "\n",
       "                               Strike Range Example:  \\\n",
       "0  [161.9, 170.9, 179.89, 188.89, 197.88, 206.88,...   \n",
       "\n",
       "                           Volatility Range Example:  \n",
       "0  [0.07, 0.13, 0.19, 0.25, 0.31, 0.36, 0.42, 0.4...  "
      ]
     },
     "metadata": {},
     "output_type": "display_data"
    },
    {
     "name": "stdout",
     "output_type": "stream",
     "text": [
      "Saved all parameters to ../data/params.pkl\n"
     ]
    }
   ],
   "source": [
    "# Create and load the ticker\n",
    "ticker_symbol = \"AAPL\"\n",
    "expiration_index = 0\n",
    "ticker = yf.Ticker(ticker_symbol)\n",
    "expirations = ticker.options\n",
    "selected_expiration = '2026-02-20'\n",
    "\n",
    "# Pull price history\n",
    "hist = ticker.history(period='1mo')\n",
    "current_price = hist['Close'].iloc[-1]\n",
    "\n",
    "# Estimate volatility (anualized)\n",
    "log_returns = np.log(hist['Close'] / hist['Close'].shift(1)).dropna()\n",
    "volatility = log_returns.std() * np.sqrt(252)\n",
    "\n",
    "# Risk-free rate (static from API)\n",
    "risk_free_rate = 0.045\n",
    "\n",
    "#strike\n",
    "strike_range = np.round(np.linspace(current_price * 0.8, current_price * 1.2, 10), 2)\n",
    "#volatility\n",
    "vol_range = np.round(np.linspace(volatility * 0.5, max(0.6, volatility * 2.0), 10), 2)\n",
    "\n",
    "\n",
    "# Time to maturity\n",
    "expiry_date = pd.to_datetime(selected_expiration)\n",
    "today = pd.to_datetime(\"today\").normalize()  # remove timestamp\n",
    "ttm = (expiry_date - today).days / 365\n",
    "print(\"Time to Maturity (ttm):\", ttm)\n",
    "\n",
    "\n",
    "#output df\n",
    "summary = pd.DataFrame([{\n",
    "    'Ticker:': ticker_symbol,\n",
    "    'Current Price': round(current_price, 2),\n",
    "    'Estimated Volatility (Annualized)': round(volatility, 4),\n",
    "    'Risk-Free Rate:': risk_free_rate,\n",
    "    'Strike Range Example:': strike_range.tolist(),\n",
    "    'Volatility Range Example:': vol_range.tolist()\n",
    "}])\n",
    "\n",
    "display(summary)\n",
    "\n",
    "# Save params for later use\n",
    "os.makedirs(\"data\", exist_ok=True)\n",
    "params = {\n",
    "    'ticker_symbol': ticker_symbol,\n",
    "    'selected_expiration': selected_expiration,\n",
    "    'current_price': current_price,\n",
    "    'volatility': volatility,\n",
    "    'risk_free_rate': risk_free_rate,\n",
    "    'strike_range': strike_range,\n",
    "    'vol_range': vol_range,\n",
    "    'ttm': ttm\n",
    "}\n",
    "with open(\"../data/params.pkl\", \"wb\") as f:\n",
    "    pickle.dump(params, f)\n",
    "print(\"Saved all parameters to ../data/params.pkl\")"
   ]
  },
  {
   "cell_type": "code",
   "execution_count": null,
   "id": "4f73f3e1-6269-4355-86ea-1d72559cf0a2",
   "metadata": {},
   "outputs": [],
   "source": []
  }
 ],
 "metadata": {
  "kernelspec": {
   "display_name": "Python [conda env:base] *",
   "language": "python",
   "name": "conda-base-py"
  },
  "language_info": {
   "codemirror_mode": {
    "name": "ipython",
    "version": 3
   },
   "file_extension": ".py",
   "mimetype": "text/x-python",
   "name": "python",
   "nbconvert_exporter": "python",
   "pygments_lexer": "ipython3",
   "version": "3.12.2"
  }
 },
 "nbformat": 4,
 "nbformat_minor": 5
}
