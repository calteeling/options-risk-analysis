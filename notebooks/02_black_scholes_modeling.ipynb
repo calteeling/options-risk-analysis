{
 "cells": [
  {
   "cell_type": "code",
   "execution_count": 220,
   "id": "3d6665a6-052a-4ab9-9941-3250f612d7c4",
   "metadata": {},
   "outputs": [],
   "source": [
    "import pandas as pd\n",
    "import yfinance as yf\n",
    "from scipy.stats import norm\n",
    "import numpy as np\n",
    "import joblib"
   ]
  },
  {
   "cell_type": "code",
   "execution_count": 221,
   "id": "518adbf4-c084-43c6-80e2-18a096ae9310",
   "metadata": {},
   "outputs": [],
   "source": [
    "#S: current price, K: strike price, T: ttm, r: risk-free, sigma: volatility\n",
    "\n",
    "# Black-Scholes Pricing Functions\n",
    "def black_scholes_call(S, K, T, r, sigma):\n",
    "    d1 = (np.log(S / K) + (r + 0.5 * sigma**2) * T) / (sigma * np.sqrt(T))\n",
    "    d2 = d1 - sigma * np.sqrt(T)\n",
    "    return S * norm.cdf(d1) - K * np.exp(-r * T) * norm.cdf(d2)\n",
    "\n",
    "def black_scholes_put(S, K, T, r, sigma):\n",
    "    d1 = (np.log(S / K) + (r + 0.5 * sigma**2) * T) / (sigma * np.sqrt(T))\n",
    "    d2 = d1 - sigma * np.sqrt(T)\n",
    "    return K * np.exp(-r * T) * norm.cdf(-d2) - S * norm.cdf(-d1)"
   ]
  },
  {
   "cell_type": "code",
   "execution_count": 222,
   "id": "417088ff-0521-4fb0-82db-1b25fee2e056",
   "metadata": {},
   "outputs": [],
   "source": [
    "params = joblib.load('../data/params.pkl')\n",
    "\n",
    "S = params['current_price']\n",
    "K_range = params['strike_range']\n",
    "sigma_range = params['vol_range']\n",
    "r = params['risk_free_rate']\n",
    "T = params['ttm']"
   ]
  },
  {
   "cell_type": "code",
   "execution_count": 223,
   "id": "88999b86-51b9-48bb-9ae1-eeb1e1a0e954",
   "metadata": {},
   "outputs": [],
   "source": [
    "call_matrix = np.zeros((len(sigma_range), len(K_range)))\n",
    "put_matrix = np.zeros((len(sigma_range), len(K_range)))\n",
    "\n",
    "for i, sigma in enumerate(sigma_range):\n",
    "    for j, K in enumerate(K_range):\n",
    "        call_matrix[i, j] = black_scholes_call(S, K, T, r, sigma)\n",
    "        put_matrix[i, j] = black_scholes_put(S, K, T, r, sigma)"
   ]
  },
  {
   "cell_type": "code",
   "execution_count": 224,
   "id": "298736fa-faa8-49e3-82d7-88110cfb8f3c",
   "metadata": {},
   "outputs": [],
   "source": [
    "call_df = pd.DataFrame(call_matrix, index=sigma_range, columns=K_range)\n",
    "put_df = pd.DataFrame(put_matrix, index=sigma_range, columns=K_range)"
   ]
  },
  {
   "cell_type": "code",
   "execution_count": 225,
   "id": "d1de4e9b-6db2-4658-a004-0cb1c6ad6bb9",
   "metadata": {},
   "outputs": [
    {
     "name": "stdout",
     "output_type": "stream",
     "text": [
      "Black-Scholes matrices saved to data/bs_matrices.pkl\n"
     ]
    }
   ],
   "source": [
    "joblib.dump({'calls': call_df, 'puts': put_df}, \"../data/bs_matrices.pkl\")\n",
    "print(\"Black-Scholes matrices saved to data/bs_matrices.pkl\")\n"
   ]
  },
  {
   "cell_type": "code",
   "execution_count": 226,
   "id": "ca910acb-e02a-44bd-b42c-4e1b26d290f4",
   "metadata": {},
   "outputs": [
    {
     "data": {
      "text/html": [
       "<div>\n",
       "<style scoped>\n",
       "    .dataframe tbody tr th:only-of-type {\n",
       "        vertical-align: middle;\n",
       "    }\n",
       "\n",
       "    .dataframe tbody tr th {\n",
       "        vertical-align: top;\n",
       "    }\n",
       "\n",
       "    .dataframe thead th {\n",
       "        text-align: right;\n",
       "    }\n",
       "</style>\n",
       "<table border=\"1\" class=\"dataframe\">\n",
       "  <thead>\n",
       "    <tr style=\"text-align: right;\">\n",
       "      <th></th>\n",
       "      <th>161.90</th>\n",
       "      <th>170.90</th>\n",
       "      <th>179.89</th>\n",
       "      <th>188.89</th>\n",
       "      <th>197.88</th>\n",
       "      <th>206.88</th>\n",
       "      <th>215.87</th>\n",
       "      <th>224.87</th>\n",
       "      <th>233.86</th>\n",
       "      <th>242.86</th>\n",
       "    </tr>\n",
       "  </thead>\n",
       "  <tbody>\n",
       "    <tr>\n",
       "      <th>0.36</th>\n",
       "      <td>4.555743</td>\n",
       "      <td>6.709300</td>\n",
       "      <td>9.436191</td>\n",
       "      <td>12.768202</td>\n",
       "      <td>16.702547</td>\n",
       "      <td>21.233877</td>\n",
       "      <td>26.322927</td>\n",
       "      <td>31.940714</td>\n",
       "      <td>38.027459</td>\n",
       "      <td>44.545840</td>\n",
       "    </tr>\n",
       "    <tr>\n",
       "      <th>0.42</th>\n",
       "      <td>6.737630</td>\n",
       "      <td>9.294527</td>\n",
       "      <td>12.376310</td>\n",
       "      <td>15.996109</td>\n",
       "      <td>20.138607</td>\n",
       "      <td>24.794494</td>\n",
       "      <td>29.926302</td>\n",
       "      <td>35.512213</td>\n",
       "      <td>41.502911</td>\n",
       "      <td>47.873043</td>\n",
       "    </tr>\n",
       "    <tr>\n",
       "      <th>0.48</th>\n",
       "      <td>9.120563</td>\n",
       "      <td>12.019398</td>\n",
       "      <td>15.396602</td>\n",
       "      <td>19.255400</td>\n",
       "      <td>23.574214</td>\n",
       "      <td>28.342764</td>\n",
       "      <td>33.525567</td>\n",
       "      <td>39.105868</td>\n",
       "      <td>45.041106</td>\n",
       "      <td>51.313565</td>\n",
       "    </tr>\n",
       "    <tr>\n",
       "      <th>0.54</th>\n",
       "      <td>11.643741</td>\n",
       "      <td>14.836943</td>\n",
       "      <td>18.466484</td>\n",
       "      <td>22.530348</td>\n",
       "      <td>27.003822</td>\n",
       "      <td>31.876954</td>\n",
       "      <td>37.116131</td>\n",
       "      <td>42.708387</td>\n",
       "      <td>48.615834</td>\n",
       "      <td>54.825985</td>\n",
       "    </tr>\n",
       "    <tr>\n",
       "      <th>0.60</th>\n",
       "      <td>14.265614</td>\n",
       "      <td>17.716381</td>\n",
       "      <td>21.566318</td>\n",
       "      <td>25.810743</td>\n",
       "      <td>30.423441</td>\n",
       "      <td>35.395358</td>\n",
       "      <td>40.694550</td>\n",
       "      <td>46.311020</td>\n",
       "      <td>52.210274</td>\n",
       "      <td>58.383612</td>\n",
       "    </tr>\n",
       "  </tbody>\n",
       "</table>\n",
       "</div>"
      ],
      "text/plain": [
       "         161.90     170.90     179.89     188.89     197.88     206.88  \\\n",
       "0.36   4.555743   6.709300   9.436191  12.768202  16.702547  21.233877   \n",
       "0.42   6.737630   9.294527  12.376310  15.996109  20.138607  24.794494   \n",
       "0.48   9.120563  12.019398  15.396602  19.255400  23.574214  28.342764   \n",
       "0.54  11.643741  14.836943  18.466484  22.530348  27.003822  31.876954   \n",
       "0.60  14.265614  17.716381  21.566318  25.810743  30.423441  35.395358   \n",
       "\n",
       "         215.87     224.87     233.86     242.86  \n",
       "0.36  26.322927  31.940714  38.027459  44.545840  \n",
       "0.42  29.926302  35.512213  41.502911  47.873043  \n",
       "0.48  33.525567  39.105868  45.041106  51.313565  \n",
       "0.54  37.116131  42.708387  48.615834  54.825985  \n",
       "0.60  40.694550  46.311020  52.210274  58.383612  "
      ]
     },
     "execution_count": 226,
     "metadata": {},
     "output_type": "execute_result"
    }
   ],
   "source": [
    "call_df.tail()\n",
    "put_df.tail()"
   ]
  }
 ],
 "metadata": {
  "kernelspec": {
   "display_name": "Python [conda env:base] *",
   "language": "python",
   "name": "conda-base-py"
  },
  "language_info": {
   "codemirror_mode": {
    "name": "ipython",
    "version": 3
   },
   "file_extension": ".py",
   "mimetype": "text/x-python",
   "name": "python",
   "nbconvert_exporter": "python",
   "pygments_lexer": "ipython3",
   "version": "3.12.2"
  }
 },
 "nbformat": 4,
 "nbformat_minor": 5
}
